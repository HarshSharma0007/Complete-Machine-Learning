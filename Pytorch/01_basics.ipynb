{
 "cells": [
  {
   "cell_type": "code",
   "execution_count": 7,
   "id": "e3bc2877",
   "metadata": {},
   "outputs": [
    {
     "name": "stdout",
     "output_type": "stream",
     "text": [
      "No GPU detected.\n"
     ]
    }
   ],
   "source": [
    "import torch\n",
    "\n",
    "if torch.cuda.is_available():\n",
    "    print(\"GPU is available:\", torch.cuda.get_device_name(0))\n",
    "else:\n",
    "    print(\"No GPU detected.\")\n"
   ]
  },
  {
   "cell_type": "code",
   "execution_count": 8,
   "id": "1cc40626",
   "metadata": {},
   "outputs": [
    {
     "name": "stdout",
     "output_type": "stream",
     "text": [
      "Tensor A:\n",
      "tensor([[0.8389, 0.0858, 0.1024],\n",
      "        [0.9856, 0.4908, 0.7084],\n",
      "        [0.1624, 0.4802, 0.3094]])\n",
      "Tensor B:\n",
      "tensor([[0.6146, 0.1825, 0.8298],\n",
      "        [0.2952, 0.8316, 0.2268],\n",
      "        [0.6510, 0.1778, 0.2691]])\n",
      "Result of matrix multiplication:\n",
      "tensor([[0.6076, 0.2427, 0.7431],\n",
      "        [1.2118, 0.7140, 1.1198],\n",
      "        [0.4430, 0.4840, 0.3270]])\n"
     ]
    }
   ],
   "source": [
    "tensor_a = torch.rand(3,3)\n",
    "tensor_b = torch.rand(3,3)\n",
    "\n",
    "result = torch.matmul(tensor_a, tensor_b)\n",
    "\n",
    "# print the result\n",
    "\n",
    "print(f\"Tensor A:\\n{tensor_a}\\nTensor B:\\n{tensor_b}\\nResult of matrix multiplication:\\n{result}\")"
   ]
  },
  {
   "cell_type": "code",
   "execution_count": null,
   "id": "28553ad1",
   "metadata": {},
   "outputs": [
    {
     "name": "stdout",
     "output_type": "stream",
     "text": [
      "No GPU detected.\n"
     ]
    }
   ],
   "source": []
  },
  {
   "cell_type": "code",
   "execution_count": null,
   "id": "24a1ce78",
   "metadata": {},
   "outputs": [],
   "source": []
  }
 ],
 "metadata": {
  "kernelspec": {
   "display_name": "Python 3",
   "language": "python",
   "name": "python3"
  },
  "language_info": {
   "codemirror_mode": {
    "name": "ipython",
    "version": 3
   },
   "file_extension": ".py",
   "mimetype": "text/x-python",
   "name": "python",
   "nbconvert_exporter": "python",
   "pygments_lexer": "ipython3",
   "version": "3.12.6"
  }
 },
 "nbformat": 4,
 "nbformat_minor": 5
}
