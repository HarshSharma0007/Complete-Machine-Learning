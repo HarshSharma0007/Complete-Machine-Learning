{
 "cells": [
  {
   "cell_type": "markdown",
   "id": "8192394a",
   "metadata": {},
   "source": [
    "## Project 2: Logistic Regression Classifier"
   ]
  },
  {
   "cell_type": "markdown",
   "id": "4339342c",
   "metadata": {},
   "source": [
    "**Description**:\n",
    "This project builds a binary classifier using logistic regression in PyTorch. It learns to classify points in 2D space using a sigmoid activation and binary cross-entropy loss.\n",
    "\n",
    "**Goal**:\n",
    "Predict binary labels (0 or 1) using a logistic regression model: `y = sigmoid(wx + b)`"
   ]
  },
  {
   "cell_type": "code",
   "execution_count": 1,
   "id": "d1be3f2e",
   "metadata": {},
   "outputs": [],
   "source": [
    "import torch"
   ]
  },
  {
   "cell_type": "code",
   "execution_count": 2,
   "id": "ea380ef6",
   "metadata": {},
   "outputs": [],
   "source": [
    "import torch.nn as nn"
   ]
  },
  {
   "cell_type": "markdown",
   "id": "6b221f69",
   "metadata": {},
   "source": [
    "Example input features and binary labels (0 or 1)"
   ]
  },
  {
   "cell_type": "code",
   "execution_count": 3,
   "id": "0e596ae5",
   "metadata": {},
   "outputs": [],
   "source": [
    "X = torch.tensor([[1.0], [2.0], [3.0], [4.0]])  # Feature values\n",
    "Y = torch.tensor([[0.0], [0.0], [1.0], [1.0]])  # Labels"
   ]
  },
  {
   "cell_type": "markdown",
   "id": "c0912c7a",
   "metadata": {},
   "source": [
    "Define logistic regression model \n",
    "\n",
    "(linear layer followed by sigmoid)"
   ]
  },
  {
   "cell_type": "code",
   "execution_count": 4,
   "id": "aeed78e8",
   "metadata": {},
   "outputs": [],
   "source": [
    "class LogisticRegression(nn.Module):\n",
    "\n",
    "    def __init__(self):\n",
    "        super(LogisticRegression, self).__init__()\n",
    "        self.linear = nn.Linear(1,1) # one input and one output\n",
    "\n",
    "    def forward(self, x):\n",
    "        return torch.sigmoid(self.linear(x)) # Apply sigmoid to output\n",
    "        "
   ]
  },
  {
   "cell_type": "code",
   "execution_count": 5,
   "id": "e88cd497",
   "metadata": {},
   "outputs": [],
   "source": [
    "model = LogisticRegression() # Instantiate the model"
   ]
  },
  {
   "cell_type": "markdown",
   "id": "07bc85b9",
   "metadata": {},
   "source": [
    "Binary Cross-Entropy loss for binary classification"
   ]
  },
  {
   "cell_type": "code",
   "execution_count": 6,
   "id": "72168b76",
   "metadata": {},
   "outputs": [],
   "source": [
    "criterion = nn.BCELoss()"
   ]
  },
  {
   "cell_type": "markdown",
   "id": "4f33862b",
   "metadata": {},
   "source": [
    "Stochastic Gradient Descent optimizer"
   ]
  },
  {
   "cell_type": "code",
   "execution_count": 22,
   "id": "82e43f1b",
   "metadata": {},
   "outputs": [],
   "source": [
    "optimizer = torch.optim.SGD(model.parameters(), lr=0.1)"
   ]
  },
  {
   "cell_type": "markdown",
   "id": "a40a3942",
   "metadata": {},
   "source": [
    "training loop"
   ]
  },
  {
   "cell_type": "code",
   "execution_count": 23,
   "id": "2a84fd2b",
   "metadata": {},
   "outputs": [
    {
     "name": "stdout",
     "output_type": "stream",
     "text": [
      "Epoch 100, Loss:  0.0229\n",
      "Epoch 200, Loss:  0.0227\n",
      "Epoch 300, Loss:  0.0225\n",
      "Epoch 400, Loss:  0.0224\n",
      "Epoch 500, Loss:  0.0222\n",
      "Epoch 600, Loss:  0.0220\n",
      "Epoch 700, Loss:  0.0219\n",
      "Epoch 800, Loss:  0.0217\n",
      "Epoch 900, Loss:  0.0216\n",
      "Epoch 1000, Loss:  0.0214\n"
     ]
    }
   ],
   "source": [
    "for epoch in range(1_000):\n",
    "    y_pred = model(X)   # Forward pass\n",
    "    \n",
    "    loss = criterion(y_pred, Y) # Compute binary cross-entropy loss\n",
    "\n",
    "    optimizer.zero_grad()   # Reset gradients\n",
    "\n",
    "    loss.backward()     # Backpropagation\n",
    "\n",
    "    optimizer.step()    # Update weights\n",
    "\n",
    "# Print every 100 epochs\n",
    "    if (epoch + 1)%100 == 0:\n",
    "        print(f\"Epoch {epoch + 1}, Loss: {loss.item(): .4f}\")"
   ]
  },
  {
   "cell_type": "markdown",
   "id": "c954206d",
   "metadata": {},
   "source": [
    "print the learned parameters"
   ]
  },
  {
   "cell_type": "code",
   "execution_count": 24,
   "id": "a394ad1d",
   "metadata": {},
   "outputs": [
    {
     "name": "stdout",
     "output_type": "stream",
     "text": [
      "Learned weight: 6.2942, bias: -15.5532\n"
     ]
    }
   ],
   "source": [
    "params = list(model.parameters())\n",
    "print(f'Learned weight: {params[0].item():.4f}, bias: {params[1].item():.4f}')"
   ]
  },
  {
   "cell_type": "markdown",
   "id": "eb964770",
   "metadata": {},
   "source": [
    "Run this in terminal : `jupyter nbconvert --to html p002_LogisticRegressionClassifier.ipynb`"
   ]
  },
  {
   "cell_type": "code",
   "execution_count": null,
   "id": "28b01d3a",
   "metadata": {},
   "outputs": [],
   "source": []
  }
 ],
 "metadata": {
  "kernelspec": {
   "display_name": "Python 3",
   "language": "python",
   "name": "python3"
  },
  "language_info": {
   "codemirror_mode": {
    "name": "ipython",
    "version": 3
   },
   "file_extension": ".py",
   "mimetype": "text/x-python",
   "name": "python",
   "nbconvert_exporter": "python",
   "pygments_lexer": "ipython3",
   "version": "3.12.6"
  }
 },
 "nbformat": 4,
 "nbformat_minor": 5
}
