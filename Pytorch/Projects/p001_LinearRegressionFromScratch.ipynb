{
 "cells": [
  {
   "cell_type": "markdown",
   "id": "ec2b21dc",
   "metadata": {},
   "source": [
    "### Linear Regression From Scratch"
   ]
  },
  {
   "cell_type": "markdown",
   "id": "f662663c",
   "metadata": {},
   "source": [
    "**Goal**:\n",
    "Fit a line `y = wx + b` to data using PyTorch tensors and gradient descent."
   ]
  },
  {
   "cell_type": "code",
   "execution_count": 1,
   "id": "f5dc27be",
   "metadata": {},
   "outputs": [],
   "source": [
    "import torch"
   ]
  },
  {
   "cell_type": "code",
   "execution_count": 2,
   "id": "166d66ee",
   "metadata": {},
   "outputs": [],
   "source": [
    "import torch.nn as nn"
   ]
  },
  {
   "cell_type": "markdown",
   "id": "9d1342ff",
   "metadata": {},
   "source": [
    "input features"
   ]
  },
  {
   "cell_type": "code",
   "execution_count": 9,
   "id": "353fcfd0",
   "metadata": {},
   "outputs": [],
   "source": [
    "X = torch.tensor([[1.],[2.],[3.],[4.]])"
   ]
  },
  {
   "cell_type": "markdown",
   "id": "14cc53ce",
   "metadata": {},
   "source": [
    "target output"
   ]
  },
  {
   "cell_type": "code",
   "execution_count": 3,
   "id": "27fba3d2",
   "metadata": {},
   "outputs": [],
   "source": [
    "Y = torch.tensor([[2.],[4.],[6.],[8.]])\n"
   ]
  },
  {
   "cell_type": "markdown",
   "id": "deb08331",
   "metadata": {},
   "source": [
    "Y = w*X + b"
   ]
  },
  {
   "cell_type": "code",
   "execution_count": 5,
   "id": "00df7f66",
   "metadata": {},
   "outputs": [],
   "source": [
    "model = nn.Linear(in_features = 1, out_features = 1)"
   ]
  },
  {
   "cell_type": "markdown",
   "id": "afbb79ad",
   "metadata": {},
   "source": [
    "loss function : MSE"
   ]
  },
  {
   "cell_type": "code",
   "execution_count": 6,
   "id": "b3315336",
   "metadata": {},
   "outputs": [],
   "source": [
    "criterion = nn.MSELoss()"
   ]
  },
  {
   "cell_type": "markdown",
   "id": "6df2e9e4",
   "metadata": {},
   "source": [
    "Gradient Descent"
   ]
  },
  {
   "cell_type": "code",
   "execution_count": 7,
   "id": "e316708d",
   "metadata": {},
   "outputs": [],
   "source": [
    "optimizer = torch.optim.SGD(model.parameters(), lr=0.01)"
   ]
  },
  {
   "cell_type": "markdown",
   "id": "18d6c114",
   "metadata": {},
   "source": [
    "Training"
   ]
  },
  {
   "cell_type": "code",
   "execution_count": 24,
   "id": "4607a83c",
   "metadata": {},
   "outputs": [
    {
     "name": "stdout",
     "output_type": "stream",
     "text": [
      "Epoch 100, Loss: 0.0000\n",
      "Epoch 200, Loss: 0.0000\n",
      "Epoch 300, Loss: 0.0000\n",
      "Epoch 400, Loss: 0.0000\n",
      "Epoch 500, Loss: 0.0000\n",
      "Epoch 600, Loss: 0.0000\n",
      "Epoch 700, Loss: 0.0000\n",
      "Epoch 800, Loss: 0.0000\n",
      "Epoch 900, Loss: 0.0000\n",
      "Epoch 1000, Loss: 0.0000\n"
     ]
    }
   ],
   "source": [
    "for epoch in range(1_000):  # Run for 1000 epochs\n",
    "    y_pred = model(X)  # Forward pass: predict output\n",
    "\n",
    "    loss = criterion(y_pred, Y)  # Compute MSE loss\n",
    "    optimizer.zero_grad()  # Clear previous gradients\n",
    "    loss.backward() # Backpropagation: compute gradients\n",
    "    optimizer.step()  # Update weights using gradients\n",
    "\n",
    "    # Print progress every 100 epochs\n",
    "    if (epoch + 1) % 100 == 0:\n",
    "        print(f'Epoch {epoch+1}, Loss: {loss.item():.4f}')"
   ]
  },
  {
   "cell_type": "code",
   "execution_count": 25,
   "id": "ca7e80d6",
   "metadata": {},
   "outputs": [
    {
     "name": "stdout",
     "output_type": "stream",
     "text": [
      "Learned weight: 2.0000, bias: 0.0000\n"
     ]
    }
   ],
   "source": [
    "# After training, print the learned weight and bias\n",
    "params = list(model.parameters())\n",
    "print(f'Learned weight: {params[0].item():.4f}, bias: {params[1].item():.4f}')"
   ]
  },
  {
   "cell_type": "code",
   "execution_count": null,
   "id": "df90c48e",
   "metadata": {},
   "outputs": [],
   "source": []
  }
 ],
 "metadata": {
  "kernelspec": {
   "display_name": "Python 3",
   "language": "python",
   "name": "python3"
  },
  "language_info": {
   "codemirror_mode": {
    "name": "ipython",
    "version": 3
   },
   "file_extension": ".py",
   "mimetype": "text/x-python",
   "name": "python",
   "nbconvert_exporter": "python",
   "pygments_lexer": "ipython3",
   "version": "3.12.6"
  }
 },
 "nbformat": 4,
 "nbformat_minor": 5
}
