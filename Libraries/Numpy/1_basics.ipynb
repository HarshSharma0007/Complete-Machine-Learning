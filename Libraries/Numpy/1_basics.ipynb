{
 "cells": [
  {
   "cell_type": "code",
   "execution_count": 48,
   "id": "6d539796",
   "metadata": {},
   "outputs": [],
   "source": [
    "import numpy as np"
   ]
  },
  {
   "cell_type": "code",
   "execution_count": 49,
   "id": "4659f2b8",
   "metadata": {},
   "outputs": [
    {
     "name": "stdout",
     "output_type": "stream",
     "text": [
      "[1 2 3 4]\n"
     ]
    }
   ],
   "source": [
    "arr = np.array([1,2,3,4])\n",
    "print(arr)"
   ]
  },
  {
   "cell_type": "markdown",
   "id": "a1193ffe",
   "metadata": {},
   "source": [
    "### Built in methods"
   ]
  },
  {
   "cell_type": "code",
   "execution_count": 50,
   "id": "1cd508a8",
   "metadata": {},
   "outputs": [
    {
     "data": {
      "text/plain": [
       "array([[0., 0., 0.],\n",
       "       [0., 0., 0.],\n",
       "       [0., 0., 0.]])"
      ]
     },
     "execution_count": 50,
     "metadata": {},
     "output_type": "execute_result"
    }
   ],
   "source": [
    "zeroes = np.zeros((3,3))\n",
    "zeroes"
   ]
  },
  {
   "cell_type": "code",
   "execution_count": 51,
   "id": "60a74558",
   "metadata": {},
   "outputs": [
    {
     "data": {
      "text/plain": [
       "array([[1., 1., 1., 1.],\n",
       "       [1., 1., 1., 1.]])"
      ]
     },
     "execution_count": 51,
     "metadata": {},
     "output_type": "execute_result"
    }
   ],
   "source": [
    "ones = np.ones((2,4))\n",
    "ones\n"
   ]
  },
  {
   "cell_type": "markdown",
   "id": "d3fe1604",
   "metadata": {},
   "source": [
    "#### arange(): similar to range"
   ]
  },
  {
   "cell_type": "code",
   "execution_count": 52,
   "id": "b9c78fbb",
   "metadata": {},
   "outputs": [
    {
     "name": "stdout",
     "output_type": "stream",
     "text": [
      "[1 3 5 7 9]\n"
     ]
    }
   ],
   "source": [
    "range_array = np.arange(1,10,2)\n",
    "print(range_array)"
   ]
  },
  {
   "cell_type": "markdown",
   "id": "e3049168",
   "metadata": {},
   "source": [
    "#### linspace(): evenly spaced numbers"
   ]
  },
  {
   "cell_type": "code",
   "execution_count": 53,
   "id": "5f9d185f",
   "metadata": {},
   "outputs": [
    {
     "data": {
      "text/plain": [
       "array([ 0.,  5., 10.])"
      ]
     },
     "execution_count": 53,
     "metadata": {},
     "output_type": "execute_result"
    }
   ],
   "source": [
    "linspace_array = np.linspace(0,10,3)\n",
    "linspace_array"
   ]
  },
  {
   "cell_type": "markdown",
   "id": "8ef0c138",
   "metadata": {},
   "source": []
  },
  {
   "cell_type": "code",
   "execution_count": 54,
   "id": "72ccd1e2",
   "metadata": {},
   "outputs": [],
   "source": [
    "arr = np.array([1,2,3,4,5,6])\n",
    "\n"
   ]
  },
  {
   "cell_type": "code",
   "execution_count": 55,
   "id": "d0f41534",
   "metadata": {},
   "outputs": [],
   "source": [
    "reshaped = arr.reshape((2,3))"
   ]
  },
  {
   "cell_type": "code",
   "execution_count": 56,
   "id": "0f809718",
   "metadata": {},
   "outputs": [
    {
     "data": {
      "text/plain": [
       "array([[1, 2, 3],\n",
       "       [4, 5, 6]])"
      ]
     },
     "execution_count": 56,
     "metadata": {},
     "output_type": "execute_result"
    }
   ],
   "source": [
    "reshaped"
   ]
  },
  {
   "cell_type": "code",
   "execution_count": 57,
   "id": "b56e4344",
   "metadata": {},
   "outputs": [],
   "source": [
    "reshaped = arr.reshape((3,2))"
   ]
  },
  {
   "cell_type": "code",
   "execution_count": 58,
   "id": "48c94b81",
   "metadata": {},
   "outputs": [
    {
     "data": {
      "text/plain": [
       "array([[1, 2],\n",
       "       [3, 4],\n",
       "       [5, 6]])"
      ]
     },
     "execution_count": 58,
     "metadata": {},
     "output_type": "execute_result"
    }
   ],
   "source": [
    "reshaped\n"
   ]
  },
  {
   "cell_type": "code",
   "execution_count": 59,
   "id": "f1345854",
   "metadata": {},
   "outputs": [],
   "source": [
    "arr = np.array([1,2,3])\n"
   ]
  },
  {
   "cell_type": "code",
   "execution_count": 60,
   "id": "65519c14",
   "metadata": {},
   "outputs": [],
   "source": [
    "expanded = arr[: , np.newaxis]"
   ]
  },
  {
   "cell_type": "code",
   "execution_count": 61,
   "id": "f70bafde",
   "metadata": {},
   "outputs": [
    {
     "name": "stdout",
     "output_type": "stream",
     "text": [
      "[[1]\n",
      " [2]\n",
      " [3]]\n"
     ]
    }
   ],
   "source": [
    "print(expanded)"
   ]
  },
  {
   "cell_type": "markdown",
   "id": "c7e1ae7f",
   "metadata": {},
   "source": [
    "#### Basic Operations\n"
   ]
  },
  {
   "cell_type": "code",
   "execution_count": 62,
   "id": "49c845ca",
   "metadata": {},
   "outputs": [],
   "source": [
    "a = np.array([1,2,3])\n",
    "b = np.array([4,5,6])"
   ]
  },
  {
   "cell_type": "code",
   "execution_count": 63,
   "id": "4c954edb",
   "metadata": {},
   "outputs": [
    {
     "data": {
      "text/plain": [
       "array([5, 7, 9])"
      ]
     },
     "execution_count": 63,
     "metadata": {},
     "output_type": "execute_result"
    }
   ],
   "source": [
    "a + b"
   ]
  },
  {
   "cell_type": "code",
   "execution_count": 64,
   "id": "098a2020",
   "metadata": {},
   "outputs": [
    {
     "data": {
      "text/plain": [
       "array([ 4, 10, 18])"
      ]
     },
     "execution_count": 64,
     "metadata": {},
     "output_type": "execute_result"
    }
   ],
   "source": [
    "a*b"
   ]
  },
  {
   "cell_type": "code",
   "execution_count": 65,
   "id": "0f1b460e",
   "metadata": {},
   "outputs": [
    {
     "data": {
      "text/plain": [
       "array([0.25, 0.4 , 0.5 ])"
      ]
     },
     "execution_count": 65,
     "metadata": {},
     "output_type": "execute_result"
    }
   ],
   "source": [
    "a/b"
   ]
  },
  {
   "cell_type": "code",
   "execution_count": 66,
   "id": "9841553e",
   "metadata": {},
   "outputs": [
    {
     "data": {
      "text/plain": [
       "array([2., 4., 5.])"
      ]
     },
     "execution_count": 66,
     "metadata": {},
     "output_type": "execute_result"
    }
   ],
   "source": [
    "arr = np.array([4,16,25])\n",
    "np.sqrt(arr)"
   ]
  },
  {
   "cell_type": "code",
   "execution_count": 67,
   "id": "253e3238",
   "metadata": {},
   "outputs": [
    {
     "data": {
      "text/plain": [
       "45"
      ]
     },
     "execution_count": 67,
     "metadata": {},
     "output_type": "execute_result"
    }
   ],
   "source": [
    "np.sum(arr)"
   ]
  },
  {
   "cell_type": "code",
   "execution_count": 68,
   "id": "826311f4",
   "metadata": {},
   "outputs": [
    {
     "data": {
      "text/plain": [
       "15.0"
      ]
     },
     "execution_count": 68,
     "metadata": {},
     "output_type": "execute_result"
    }
   ],
   "source": [
    "np.mean(arr)"
   ]
  },
  {
   "cell_type": "code",
   "execution_count": 69,
   "id": "22ed7196",
   "metadata": {},
   "outputs": [
    {
     "data": {
      "text/plain": [
       "25"
      ]
     },
     "execution_count": 69,
     "metadata": {},
     "output_type": "execute_result"
    }
   ],
   "source": [
    "np.max(arr)"
   ]
  },
  {
   "cell_type": "code",
   "execution_count": 70,
   "id": "ea10957b",
   "metadata": {},
   "outputs": [
    {
     "data": {
      "text/plain": [
       "4"
      ]
     },
     "execution_count": 70,
     "metadata": {},
     "output_type": "execute_result"
    }
   ],
   "source": [
    "np.min(arr)"
   ]
  },
  {
   "cell_type": "code",
   "execution_count": 71,
   "id": "d461b9c9",
   "metadata": {},
   "outputs": [
    {
     "name": "stdout",
     "output_type": "stream",
     "text": [
      "30\n"
     ]
    }
   ],
   "source": [
    "arr = np.array([10,20,30,40,50])\n",
    "\n",
    "print(arr[2])"
   ]
  },
  {
   "cell_type": "code",
   "execution_count": 72,
   "id": "a0802aea",
   "metadata": {},
   "outputs": [
    {
     "name": "stdout",
     "output_type": "stream",
     "text": [
      "50\n"
     ]
    }
   ],
   "source": [
    "print(arr[-1])"
   ]
  },
  {
   "cell_type": "code",
   "execution_count": 73,
   "id": "8a7df4e6",
   "metadata": {},
   "outputs": [
    {
     "data": {
      "text/plain": [
       "array([20, 30, 40])"
      ]
     },
     "execution_count": 73,
     "metadata": {},
     "output_type": "execute_result"
    }
   ],
   "source": [
    "arr[1:4]"
   ]
  },
  {
   "cell_type": "code",
   "execution_count": 74,
   "id": "5656af4a",
   "metadata": {},
   "outputs": [
    {
     "data": {
      "text/plain": [
       "array([10, 20, 30, 40, 50])"
      ]
     },
     "execution_count": 74,
     "metadata": {},
     "output_type": "execute_result"
    }
   ],
   "source": [
    "arr[:]"
   ]
  },
  {
   "cell_type": "code",
   "execution_count": 75,
   "id": "47689e74",
   "metadata": {},
   "outputs": [
    {
     "data": {
      "text/plain": [
       "array([10, 20, 30, 40, 50])"
      ]
     },
     "execution_count": 75,
     "metadata": {},
     "output_type": "execute_result"
    }
   ],
   "source": [
    "arr"
   ]
  },
  {
   "cell_type": "code",
   "execution_count": 76,
   "id": "5a269e08",
   "metadata": {},
   "outputs": [],
   "source": [
    "reshaped = arr.reshape((5,1))"
   ]
  },
  {
   "cell_type": "code",
   "execution_count": 77,
   "id": "cdcd61a1",
   "metadata": {},
   "outputs": [
    {
     "data": {
      "text/plain": [
       "array([[10],\n",
       "       [20],\n",
       "       [30],\n",
       "       [40],\n",
       "       [50]])"
      ]
     },
     "execution_count": 77,
     "metadata": {},
     "output_type": "execute_result"
    }
   ],
   "source": [
    "reshaped"
   ]
  },
  {
   "cell_type": "markdown",
   "id": "22c2fdd5",
   "metadata": {},
   "source": [
    "qns"
   ]
  },
  {
   "cell_type": "code",
   "execution_count": 78,
   "id": "7538d4f1",
   "metadata": {},
   "outputs": [],
   "source": [
    "a = np.arange(1,6)\n",
    "b = np.arange(6,11)"
   ]
  },
  {
   "cell_type": "code",
   "execution_count": 79,
   "id": "24b96af5",
   "metadata": {},
   "outputs": [],
   "source": [
    "listted = [f\"Add: {a+b}\",\n",
    "           f\"Sub: {a-b}\",\n",
    "           f\"Mul: {a*b}\",\n",
    "           f\"Div: {a/b}\"\n",
    "           ]"
   ]
  },
  {
   "cell_type": "code",
   "execution_count": 88,
   "id": "05064200",
   "metadata": {},
   "outputs": [
    {
     "name": "stdout",
     "output_type": "stream",
     "text": [
      "Add: [ 7  9 11 13 15]\n",
      "Sub: [-5 -5 -5 -5 -5]\n",
      "Mul: [ 6 14 24 36 50]\n",
      "Div: [0.16666667 0.28571429 0.375      0.44444444 0.5       ]\n"
     ]
    }
   ],
   "source": [
    "print('\\n'.join(i for i in listted))"
   ]
  },
  {
   "cell_type": "code",
   "execution_count": 89,
   "id": "80424937",
   "metadata": {},
   "outputs": [],
   "source": [
    "# QN"
   ]
  },
  {
   "cell_type": "code",
   "execution_count": 90,
   "id": "2d318761",
   "metadata": {},
   "outputs": [],
   "source": [
    "matrix = np.array([[1,2,3],\n",
    "                   [4,5,6],\n",
    "                   [7,8,9]])"
   ]
  },
  {
   "cell_type": "code",
   "execution_count": 91,
   "id": "7daa842b",
   "metadata": {},
   "outputs": [
    {
     "data": {
      "text/plain": [
       "array([[1, 2, 3],\n",
       "       [4, 5, 6],\n",
       "       [7, 8, 9]])"
      ]
     },
     "execution_count": 91,
     "metadata": {},
     "output_type": "execute_result"
    }
   ],
   "source": [
    "matrix"
   ]
  },
  {
   "cell_type": "code",
   "execution_count": 92,
   "id": "3095e694",
   "metadata": {},
   "outputs": [],
   "source": [
    "# transpose"
   ]
  },
  {
   "cell_type": "code",
   "execution_count": 93,
   "id": "43620ffa",
   "metadata": {},
   "outputs": [],
   "source": [
    "transpose = matrix.T"
   ]
  },
  {
   "cell_type": "code",
   "execution_count": 94,
   "id": "c682216a",
   "metadata": {},
   "outputs": [
    {
     "data": {
      "text/plain": [
       "array([[1, 4, 7],\n",
       "       [2, 5, 8],\n",
       "       [3, 6, 9]])"
      ]
     },
     "execution_count": 94,
     "metadata": {},
     "output_type": "execute_result"
    }
   ],
   "source": [
    "transpose"
   ]
  },
  {
   "cell_type": "code",
   "execution_count": null,
   "id": "c8a414a9",
   "metadata": {},
   "outputs": [],
   "source": [
    "another_matrix = np.array([[9,8,7],[6,5,4],[3,2,1]])"
   ]
  },
  {
   "cell_type": "markdown",
   "id": "d52d260b",
   "metadata": {},
   "source": [
    "#### Broadcasting"
   ]
  },
  {
   "cell_type": "code",
   "execution_count": 99,
   "id": "722ea38b",
   "metadata": {},
   "outputs": [
    {
     "data": {
      "text/plain": [
       "array([11, 12, 13])"
      ]
     },
     "execution_count": 99,
     "metadata": {},
     "output_type": "execute_result"
    }
   ],
   "source": [
    "arr = np.array([1,2,3])\n",
    "arr + 10"
   ]
  },
  {
   "cell_type": "code",
   "execution_count": 101,
   "id": "c190687d",
   "metadata": {},
   "outputs": [],
   "source": [
    "matrix = np.array([[1,2,3],[4,5,6]])\n",
    "vector = np.array([1,0,1])"
   ]
  },
  {
   "cell_type": "code",
   "execution_count": 102,
   "id": "95681935",
   "metadata": {},
   "outputs": [
    {
     "data": {
      "text/plain": [
       "array([[2, 2, 4],\n",
       "       [5, 5, 7]])"
      ]
     },
     "execution_count": 102,
     "metadata": {},
     "output_type": "execute_result"
    }
   ],
   "source": [
    "matrix + vector"
   ]
  },
  {
   "cell_type": "markdown",
   "id": "dacbe116",
   "metadata": {},
   "source": [
    "#### Aggregation"
   ]
  },
  {
   "cell_type": "code",
   "execution_count": 103,
   "id": "ceb93054",
   "metadata": {},
   "outputs": [],
   "source": [
    "arr = np.array([[1,2,3], [4,5,6]])\n"
   ]
  },
  {
   "cell_type": "code",
   "execution_count": 104,
   "id": "ccd4eae5",
   "metadata": {},
   "outputs": [
    {
     "data": {
      "text/plain": [
       "21"
      ]
     },
     "execution_count": 104,
     "metadata": {},
     "output_type": "execute_result"
    }
   ],
   "source": [
    "np.sum(arr)"
   ]
  },
  {
   "cell_type": "code",
   "execution_count": 105,
   "id": "e7d17c5d",
   "metadata": {},
   "outputs": [
    {
     "data": {
      "text/plain": [
       "3.5"
      ]
     },
     "execution_count": 105,
     "metadata": {},
     "output_type": "execute_result"
    }
   ],
   "source": [
    "np.mean(arr)"
   ]
  },
  {
   "cell_type": "code",
   "execution_count": 107,
   "id": "aff1bc95",
   "metadata": {},
   "outputs": [
    {
     "data": {
      "text/plain": [
       "3.5"
      ]
     },
     "execution_count": 107,
     "metadata": {},
     "output_type": "execute_result"
    }
   ],
   "source": [
    "arr.mean()"
   ]
  },
  {
   "cell_type": "code",
   "execution_count": 120,
   "id": "c5a22e30",
   "metadata": {},
   "outputs": [
    {
     "name": "stdout",
     "output_type": "stream",
     "text": [
      "10640625000\n"
     ]
    }
   ],
   "source": [
    "import time\n",
    "\n",
    "begin = time.thread_time_ns()\n",
    "\n",
    "np.std(arr)\n",
    "\n",
    "print(begin)"
   ]
  },
  {
   "cell_type": "code",
   "execution_count": 121,
   "id": "f7d6a98c",
   "metadata": {},
   "outputs": [
    {
     "name": "stdout",
     "output_type": "stream",
     "text": [
      "10671875000\n"
     ]
    }
   ],
   "source": [
    "\n",
    "begin = time.thread_time_ns()\n",
    "arr.std()\n",
    "print(begin)"
   ]
  },
  {
   "cell_type": "code",
   "execution_count": 122,
   "id": "5a759b31",
   "metadata": {},
   "outputs": [
    {
     "data": {
      "text/plain": [
       "array([ 6, 15])"
      ]
     },
     "execution_count": 122,
     "metadata": {},
     "output_type": "execute_result"
    }
   ],
   "source": [
    "# Sumof rows\n",
    "\n",
    "np.sum(arr, axis=1)"
   ]
  },
  {
   "cell_type": "code",
   "execution_count": 123,
   "id": "22dc5eac",
   "metadata": {},
   "outputs": [
    {
     "data": {
      "text/plain": [
       "array([5, 7, 9])"
      ]
     },
     "execution_count": 123,
     "metadata": {},
     "output_type": "execute_result"
    }
   ],
   "source": [
    "np.sum(arr, axis=0)"
   ]
  },
  {
   "cell_type": "markdown",
   "id": "d300eeab",
   "metadata": {},
   "source": [
    "#### Boolean Indexing and Filtering"
   ]
  },
  {
   "cell_type": "code",
   "execution_count": 124,
   "id": "5c665be9",
   "metadata": {},
   "outputs": [],
   "source": [
    "arr = np.array([1,2,3,4,5,6])"
   ]
  },
  {
   "cell_type": "code",
   "execution_count": 125,
   "id": "f5b3c044",
   "metadata": {},
   "outputs": [],
   "source": [
    "evens = arr[arr%2==0]"
   ]
  },
  {
   "cell_type": "code",
   "execution_count": 126,
   "id": "d4c6a926",
   "metadata": {},
   "outputs": [
    {
     "data": {
      "text/plain": [
       "array([2, 4, 6])"
      ]
     },
     "execution_count": 126,
     "metadata": {},
     "output_type": "execute_result"
    }
   ],
   "source": [
    "evens"
   ]
  },
  {
   "cell_type": "code",
   "execution_count": 127,
   "id": "8cfd98da",
   "metadata": {},
   "outputs": [],
   "source": [
    "arr[arr>3]=0"
   ]
  },
  {
   "cell_type": "code",
   "execution_count": 128,
   "id": "542f9ce5",
   "metadata": {},
   "outputs": [
    {
     "data": {
      "text/plain": [
       "array([1, 2, 3, 0, 0, 0])"
      ]
     },
     "execution_count": 128,
     "metadata": {},
     "output_type": "execute_result"
    }
   ],
   "source": [
    "arr"
   ]
  },
  {
   "cell_type": "markdown",
   "id": "bbad3236",
   "metadata": {},
   "source": [
    "#### Random Numbers"
   ]
  },
  {
   "cell_type": "code",
   "execution_count": 133,
   "id": "a6d5b9ba",
   "metadata": {},
   "outputs": [],
   "source": [
    "np.random.seed(42)"
   ]
  },
  {
   "cell_type": "code",
   "execution_count": 134,
   "id": "26866c97",
   "metadata": {},
   "outputs": [],
   "source": [
    "random_array = np.random.rand(3,3)"
   ]
  },
  {
   "cell_type": "code",
   "execution_count": 135,
   "id": "d7d1599a",
   "metadata": {},
   "outputs": [
    {
     "data": {
      "text/plain": [
       "array([[0.37454012, 0.95071431, 0.73199394],\n",
       "       [0.59865848, 0.15601864, 0.15599452],\n",
       "       [0.05808361, 0.86617615, 0.60111501]])"
      ]
     },
     "execution_count": 135,
     "metadata": {},
     "output_type": "execute_result"
    }
   ],
   "source": [
    "random_array"
   ]
  },
  {
   "cell_type": "code",
   "execution_count": 136,
   "id": "9c9d59c2",
   "metadata": {},
   "outputs": [],
   "source": [
    "random_integers = np.random.randint(0,10,size=(2,3))"
   ]
  },
  {
   "cell_type": "code",
   "execution_count": 137,
   "id": "667cced0",
   "metadata": {},
   "outputs": [
    {
     "data": {
      "text/plain": [
       "array([[7, 2, 5],\n",
       "       [4, 1, 7]])"
      ]
     },
     "execution_count": 137,
     "metadata": {},
     "output_type": "execute_result"
    }
   ],
   "source": [
    "random_integers"
   ]
  },
  {
   "cell_type": "code",
   "execution_count": 138,
   "id": "f56e0e5c",
   "metadata": {},
   "outputs": [],
   "source": [
    "dataset = np.random.randint(1,51,size=(5,5))"
   ]
  },
  {
   "cell_type": "code",
   "execution_count": 139,
   "id": "96950b8b",
   "metadata": {},
   "outputs": [
    {
     "data": {
      "text/plain": [
       "array([[44, 30, 38,  2, 21],\n",
       "       [33, 12, 22, 44, 25],\n",
       "       [49, 27, 42, 28, 16],\n",
       "       [15, 47, 44,  3, 37],\n",
       "       [ 7, 21,  9, 39, 18]])"
      ]
     },
     "execution_count": 139,
     "metadata": {},
     "output_type": "execute_result"
    }
   ],
   "source": [
    "dataset"
   ]
  },
  {
   "cell_type": "markdown",
   "id": "6b0148f9",
   "metadata": {},
   "source": [
    "filter value > 25 and replace with 0"
   ]
  },
  {
   "cell_type": "code",
   "execution_count": 140,
   "id": "de9eb43a",
   "metadata": {},
   "outputs": [],
   "source": [
    "dataset[dataset>25]=0"
   ]
  },
  {
   "cell_type": "code",
   "execution_count": 142,
   "id": "b8d19646",
   "metadata": {},
   "outputs": [
    {
     "data": {
      "text/plain": [
       "171"
      ]
     },
     "execution_count": 142,
     "metadata": {},
     "output_type": "execute_result"
    }
   ],
   "source": [
    "dataset.sum()\n"
   ]
  },
  {
   "cell_type": "code",
   "execution_count": 143,
   "id": "13f541f3",
   "metadata": {},
   "outputs": [
    {
     "data": {
      "text/plain": [
       "6.84"
      ]
     },
     "execution_count": 143,
     "metadata": {},
     "output_type": "execute_result"
    }
   ],
   "source": [
    "dataset.mean()"
   ]
  },
  {
   "cell_type": "code",
   "execution_count": 145,
   "id": "24d7a09e",
   "metadata": {},
   "outputs": [
    {
     "data": {
      "text/plain": [
       "8.748394138354763"
      ]
     },
     "execution_count": 145,
     "metadata": {},
     "output_type": "execute_result"
    }
   ],
   "source": [
    "dataset.std()"
   ]
  },
  {
   "cell_type": "code",
   "execution_count": null,
   "id": "31af7638",
   "metadata": {},
   "outputs": [],
   "source": []
  }
 ],
 "metadata": {
  "kernelspec": {
   "display_name": "Python 3",
   "language": "python",
   "name": "python3"
  },
  "language_info": {
   "codemirror_mode": {
    "name": "ipython",
    "version": 3
   },
   "file_extension": ".py",
   "mimetype": "text/x-python",
   "name": "python",
   "nbconvert_exporter": "python",
   "pygments_lexer": "ipython3",
   "version": "3.12.6"
  }
 },
 "nbformat": 4,
 "nbformat_minor": 5
}
