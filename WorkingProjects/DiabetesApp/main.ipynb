{
 "cells": [
  {
   "cell_type": "markdown",
   "id": "6c683334",
   "metadata": {},
   "source": [
    "Hi Buddy!<br> well for this exercise we will be following an <a ref='https://www.kdnuggets.com/guide-deploying-machine-learning-models-production'>article</a>."
   ]
  },
  {
   "cell_type": "markdown",
   "id": "a86ad27e",
   "metadata": {},
   "source": [
    "First open your terminal and create an virtual environment.\n",
    "> python -m venv myvirtualenv"
   ]
  },
  {
   "cell_type": "markdown",
   "id": "25d7972a",
   "metadata": {},
   "source": [
    "Create the `requirements.txt` file and fill it out with the following library list.\n",
    "<br>\n",
    "\n",
    "pandas\n",
    "scikit-learn\n",
    "fastapi\n",
    "pydantic\n",
    "uvicorn\n",
    "streamlit\n"
   ]
  },
  {
   "cell_type": "markdown",
   "id": "8150f237",
   "metadata": {},
   "source": []
  }
 ],
 "metadata": {
  "kernelspec": {
   "display_name": "Python 3",
   "language": "python",
   "name": "python3"
  },
  "language_info": {
   "name": "python",
   "version": "3.12.6"
  }
 },
 "nbformat": 4,
 "nbformat_minor": 5
}
