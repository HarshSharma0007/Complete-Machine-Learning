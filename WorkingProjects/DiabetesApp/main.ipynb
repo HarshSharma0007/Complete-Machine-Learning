{
 "cells": [
  {
   "cell_type": "markdown",
   "id": "6c683334",
   "metadata": {},
   "source": [
    "Hi Buddy!<br> well for this exercise we will be following an <a ref='https://www.kdnuggets.com/guide-deploying-machine-learning-models-production'>article</a>."
   ]
  },
  {
   "cell_type": "markdown",
   "id": "a86ad27e",
   "metadata": {},
   "source": [
    "First open your terminal and create an virtual environment.\n",
    "> python -m venv myvirtualenv"
   ]
  },
  {
   "cell_type": "markdown",
   "id": "25d7972a",
   "metadata": {},
   "source": [
    "Create the `requirements.txt` file and fill it out with the following library list.\n",
    "<br>\n",
    "\n",
    "- pandas\n",
    "- scikit-learn\n",
    "- fastapi\n",
    "- pydantic\n",
    "- uvicorn\n",
    "- streamlit\n"
   ]
  },
  {
   "cell_type": "markdown",
   "id": "8150f237",
   "metadata": {},
   "source": [
    "We must install them using the following code.\n",
    "> pip install -r requirements.txt"
   ]
  },
  {
   "cell_type": "markdown",
   "id": "3bd0d682",
   "metadata": {},
   "source": [
    "Using the kaggle dataset,<br>\n",
    "https://www.kaggle.com/datasets/uciml/pima-indians-diabetes-database\n",
    "<br> we will be training the model."
   ]
  },
  {
   "cell_type": "markdown",
   "id": "66a687bb",
   "metadata": {},
   "source": [
    "#### Train the model"
   ]
  },
  {
   "cell_type": "markdown",
   "id": "d186982d",
   "metadata": {},
   "source": [
    "Create a file called `app/train_model.py` in the app folder. \n",
    "Write this code."
   ]
  },
  {
   "cell_type": "markdown",
   "id": "c865186a",
   "metadata": {},
   "source": [
    "Create an empty folder, `models`"
   ]
  },
  {
   "cell_type": "code",
   "execution_count": null,
   "id": "ded9b764",
   "metadata": {},
   "outputs": [],
   "source": [
    "import pandas as pd\n",
    "import joblib   # for saving the model\n",
    "from sklearn.linear_model import LogisticRegression\n",
    "\n",
    "data = pd.read_csv(\"data\\\\diabetes.csv\")\n",
    "X = data.drop('Outcome', axis =1)\n",
    "y = data['Outcome']\n",
    "model = LogisticRegression()\n",
    "\n",
    "model.fit(X, y)\n",
    "joblib.dump(model, 'models\\\\logreg_model.joblib')"
   ]
  },
  {
   "cell_type": "markdown",
   "id": "484ec7e6",
   "metadata": {},
   "source": [
    "#### **Model Deployment**"
   ]
  },
  {
   "cell_type": "markdown",
   "id": "93715129",
   "metadata": {},
   "source": [
    "We will create API for our model prediction and deploy them with Docker while testing them with the Streamlit front end.\n",
    "First, ensure you already have a docker desktop installed, as we will test them locally."
   ]
  },
  {
   "cell_type": "markdown",
   "id": "bb6c6581",
   "metadata": {},
   "source": [
    "!!! Create a file called `app/main.py` in the app folder and fill it with the following code to generate the API."
   ]
  },
  {
   "cell_type": "code",
   "execution_count": null,
   "id": "64c6a6ae",
   "metadata": {},
   "outputs": [],
   "source": [
    "from fastapi import FastAPI\n",
    "from pydantic import BaseModel\n",
    "import pandas as pd\n",
    "import joblib\n",
    "\n",
    "# Load the logistic regression model\n",
    "model = joblib.load('../models/logreg_model.joblib')\n",
    "\n",
    "# Define the input data model\n",
    "class DiabetesData(BaseModel):\n",
    "    Pregnancies: int\n",
    "    Glucose: int\n",
    "    BloodPressure: int\n",
    "    SkinThickness: int\n",
    "    Insulin: int\n",
    "    BMI: float\n",
    "    DiabetesPedigreeFunction: float\n",
    "    Age: int\n",
    "app = FastAPI()\n",
    "\n",
    "# Define prediction endpoint\n",
    "@app.post(\"/predict\")\n",
    "def predict(data: DiabetesData):\n",
    "    input_data = {\n",
    "        'Pregnancies': [data.Pregnancies],\n",
    "        'Glucose': [data.Glucose],\n",
    "        'BloodPressure': [data.BloodPressure],\n",
    "        'SkinThickness': [data.SkinThickness],\n",
    "        'Insulin': [data.Insulin],\n",
    "        'BMI': [data.BMI],\n",
    "        'DiabetesPedigreeFunction': [data.DiabetesPedigreeFunction],\n",
    "        'Age': [data.Age]\n",
    "    }\n",
    "    input_df = pd.DataFrame(input_data)\n",
    "\n",
    "    # Make a prediction\n",
    "    prediction = model.predict(input_df)\n",
    "    result = \"Diabetes\" if prediction[0] == 1 else \"Not Diabetes\"\n",
    "    return {\"prediction\": result}"
   ]
  },
  {
   "cell_type": "markdown",
   "id": "53fb3643",
   "metadata": {},
   "source": [
    "Additionally, we will have a frontend web to try the API model we deployed.\n",
    "To do that, create a file called `app/frontend.py` in the app folder. Then, fill them with the following code."
   ]
  },
  {
   "cell_type": "markdown",
   "id": "5bd33fc6",
   "metadata": {},
   "source": [
    "To RUN streamlit, always use in terminal\n",
    "> streamlit run frontend.py\n"
   ]
  },
  {
   "cell_type": "code",
   "execution_count": null,
   "id": "372014e4",
   "metadata": {},
   "outputs": [],
   "source": [
    "import streamlit as st\n",
    "import requests\n",
    "import json\n",
    "\n",
    "API_URL = \"http://localhost:8000/predict\"\n",
    "\n",
    "st.title(\"Diabetes Prediction App\")\n",
    "st.write(\"Enter the details below to make a prediction.\")\n",
    "\n",
    "pregnancies = st.number_input(\"Pregnancies\", min_value=0, step=1)\n",
    "glucose = st.number_input(\"Glucose\", min_value=0, step=1)\n",
    "blood_pressure = st.number_input(\"Blood Pressure\", min_value=0, step=1)\n",
    "skin_thickness = st.number_input(\"Skin Thickness\", min_value=0, step=1)\n",
    "insulin = st.number_input(\"Insulin\", min_value=0, step=1)\n",
    "bmi = st.number_input(\"BMI\", min_value=0.0, step=0.1)\n",
    "diabetes_pedigree_function = st.number_input(\"Diabetes Pedigree Function\", min_value=0.0, step=0.1)\n",
    "age = st.number_input(\"Age\", min_value=0, step=1)\n",
    "\n",
    "if st.button(\"Predict\"):\n",
    "    input_data = {\n",
    "        \"Pregnancies\": pregnancies,\n",
    "        \"Glucose\": glucose,\n",
    "        \"BloodPressure\": blood_pressure,\n",
    "        \"SkinThickness\": skin_thickness,\n",
    "        \"Insulin\": insulin,\n",
    "        \"BMI\": bmi,\n",
    "        \"DiabetesPedigreeFunction\": diabetes_pedigree_function,\n",
    "        \"Age\": age\n",
    "    }\n",
    "\n",
    "    response = requests.post(API_URL, data=json.dumps(input_data), headers={\"Content-Type\": \"application/json\"})\n",
    "   \n",
    "    if response.status_code == 200:\n",
    "        prediction = response.json().get(\"prediction\", \"No prediction\")\n",
    "        st.success(f\"Prediction: {prediction}\")\n",
    "    else:\n",
    "        st.error(\"Error in making prediction. Please check your input data and try again.\")\n",
    " "
   ]
  },
  {
   "cell_type": "markdown",
   "id": "5a1a5ed8",
   "metadata": {},
   "source": [
    "When everything is ready, we will create the `Dockerfile` as the basis for our model deployment. "
   ]
  },
  {
   "cell_type": "markdown",
   "id": "9d51bb3b",
   "metadata": {},
   "source": [
    "> You should fill in the code below in the file.\n",
    "\n",
    "FROM python:3.9-slim\n",
    "\n",
    "WORKDIR /app\n",
    "\n",
    "COPY app /app\n",
    "COPY models /models\n",
    "\n",
    "RUN pip install --no-cache-dir --upgrade pip && \\\n",
    "    pip install --no-cache-dir -r requirements.txt\n",
    "\n",
    "EXPOSE 8000 8501\n",
    "\n",
    "CMD [\"sh\", \"-c\", \"uvicorn main:app --host 0.0.0.0 --port 8000 & streamlit run frontend.py --server.port=8501 --server.enableCORS=false\"]"
   ]
  },
  {
   "cell_type": "markdown",
   "id": "a6ca663e",
   "metadata": {},
   "source": [
    "We will create the image with the Docker file ready and then deploy the model via container.\n",
    "RUN IN TERMINAL\n",
    "> docker build -t diabetes-prediction-app ."
   ]
  },
  {
   "cell_type": "markdown",
   "id": "afe335bb",
   "metadata": {},
   "source": [
    "The code above creates the Docker image for our model container. Then, we will use the following code to make the API for model deployment.\n",
    "> docker run -d -p 8000:8000 -p 8501:8501 --name diabetes-prediction-container diabetes-prediction-app"
   ]
  },
  {
   "cell_type": "markdown",
   "id": "c02edba3",
   "metadata": {},
   "source": [
    "With everything ready, ensure the container runs and access the front end with the address below.\n",
    "> http://localhost:8501/"
   ]
  },
  {
   "cell_type": "code",
   "execution_count": null,
   "id": "ac3fd176",
   "metadata": {},
   "outputs": [],
   "source": []
  }
 ],
 "metadata": {
  "kernelspec": {
   "display_name": "Python 3",
   "language": "python",
   "name": "python3"
  },
  "language_info": {
   "codemirror_mode": {
    "name": "ipython",
    "version": 3
   },
   "file_extension": ".py",
   "mimetype": "text/x-python",
   "name": "python",
   "nbconvert_exporter": "python",
   "pygments_lexer": "ipython3",
   "version": "3.12.6"
  }
 },
 "nbformat": 4,
 "nbformat_minor": 5
}
