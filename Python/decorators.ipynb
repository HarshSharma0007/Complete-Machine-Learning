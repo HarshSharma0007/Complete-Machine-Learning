{
 "cells": [
  {
   "cell_type": "markdown",
   "metadata": {},
   "source": [
    "### Keywords in python"
   ]
  },
  {
   "cell_type": "markdown",
   "metadata": {},
   "source": [
    "Here is a table of Python keywords:\n",
    "|             |             |              |              |              |\n",
    "|-------------|-------------|--------------|--------------|--------------|\n",
    "| False  | **await**   | else    | import   | pass     |\n",
    "| None    | break   | except   | in      | raise    |\n",
    "| True   | class   | finally  | is       | return  |\n",
    "| and    | continue| for     | lambda   | try      |\n",
    "| as      | def     | from     | **nonlocal** | while    |\n",
    "| **assert**  | del     | **global**   | not     | with     |\n",
    "| **async**   | elif    | if     | or      | **yield**    |\n",
    "\n",
    "for Advanced python we will be looking at the bold keywords only.\n"
   ]
  },
  {
   "cell_type": "markdown",
   "metadata": {},
   "source": [
    "Which are,\n",
    "> async\n",
    "\n",
    ">assert\n",
    "\n",
    "> await\n",
    "\n",
    "> global\n",
    "\n",
    "> non-local\n",
    "\n",
    "> yield"
   ]
  },
  {
   "cell_type": "code",
   "execution_count": 14,
   "metadata": {},
   "outputs": [
    {
     "name": "stdout",
     "output_type": "stream",
     "text": [
      "<str_ascii_iterator object at 0x000002015268B730>\n",
      "1\n",
      "e\n",
      "x\n",
      "t\n"
     ]
    }
   ],
   "source": [
    "s = (\"next\")\n",
    "\n",
    "s=iter(s)\n",
    "print(s)\n",
    "print(len(next(s)))\n",
    "print(next(s))\n",
    "print(next(s))\n",
    "# print(next(s))\n",
    "print(next(s))"
   ]
  },
  {
   "cell_type": "code",
   "execution_count": null,
   "metadata": {},
   "outputs": [],
   "source": []
  },
  {
   "cell_type": "code",
   "execution_count": 15,
   "metadata": {},
   "outputs": [],
   "source": [
    "number = \"11\"\n"
   ]
  },
  {
   "cell_type": "code",
   "execution_count": 16,
   "metadata": {},
   "outputs": [],
   "source": [
    "no_n = float(number)"
   ]
  },
  {
   "cell_type": "code",
   "execution_count": 20,
   "metadata": {},
   "outputs": [
    {
     "data": {
      "text/plain": [
       "11.0"
      ]
     },
     "execution_count": 20,
     "metadata": {},
     "output_type": "execute_result"
    }
   ],
   "source": [
    "no_n"
   ]
  },
  {
   "cell_type": "code",
   "execution_count": null,
   "metadata": {},
   "outputs": [],
   "source": []
  }
 ],
 "metadata": {
  "kernelspec": {
   "display_name": "Python 3",
   "language": "python",
   "name": "python3"
  },
  "language_info": {
   "codemirror_mode": {
    "name": "ipython",
    "version": 3
   },
   "file_extension": ".py",
   "mimetype": "text/x-python",
   "name": "python",
   "nbconvert_exporter": "python",
   "pygments_lexer": "ipython3",
   "version": "3.12.6"
  }
 },
 "nbformat": 4,
 "nbformat_minor": 2
}
